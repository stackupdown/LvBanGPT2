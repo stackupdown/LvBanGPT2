{
 "cells": [
  {
   "cell_type": "code",
   "execution_count": 2,
   "id": "a1d52833-48e8-4ce5-95a8-76d0f14860df",
   "metadata": {
    "ExecutionIndicator": {
     "show": true
    },
    "execution": {
     "iopub.execute_input": "2024-08-13T01:49:19.917623Z",
     "iopub.status.busy": "2024-08-13T01:49:19.917177Z",
     "iopub.status.idle": "2024-08-13T01:51:57.750609Z",
     "shell.execute_reply": "2024-08-13T01:51:57.750037Z",
     "shell.execute_reply.started": "2024-08-13T01:49:19.917599Z"
    },
    "tags": []
   },
   "outputs": [
    {
     "name": "stderr",
     "output_type": "stream",
     "text": [
      "\n",
      "WARNING: apt does not have a stable CLI interface. Use with caution in scripts.\n",
      "\n",
      "\n",
      "WARNING: apt does not have a stable CLI interface. Use with caution in scripts.\n",
      "\n",
      "正克隆到 './model/rerank_model'...\n"
     ]
    },
    {
     "name": "stdout",
     "output_type": "stream",
     "text": [
      "正在读取软件包列表...\n",
      "正在分析软件包的依赖关系树...\n",
      "正在读取状态信息...\n",
      "git 已经是最新版 (1:2.34.1-1ubuntu1.10)。\n",
      "升级了 0 个软件包，新安装了 0 个软件包， 要卸载 0 个软件包，有 0 个软件包未被升级。\n",
      "正在读取软件包列表...\n",
      "正在分析软件包的依赖关系树...\n",
      "正在读取状态信息...\n",
      "git-lfs 已经是最新版 (3.2.0)。\n",
      "升级了 0 个软件包，新安装了 0 个软件包， 要卸载 0 个软件包，有 0 个软件包未被升级。\n"
     ]
    },
    {
     "data": {
      "text/plain": [
       "0"
      ]
     },
     "execution_count": 2,
     "metadata": {},
     "output_type": "execute_result"
    }
   ],
   "source": [
    "import torch\n",
    "import os\n",
    "from transformers import AutoModelForCausalLM, AutoTokenizer, AutoModel\n",
    "\n",
    "base_path = './model/rerank_model/'\n",
    "# download repo to the base_path directory using git\n",
    "os.system('apt install git')\n",
    "os.system('apt install git-lfs')\n",
    "os.system(f'git clone https://code.openxlab.org.cn/answer-qzd/bge_rerank.git {base_path}')\n",
    "os.system(f'cd {base_path} && git lfs pull')"
   ]
  }
 ],
 "metadata": {
  "kernelspec": {
   "display_name": "Python 3 (ipykernel)",
   "language": "python",
   "name": "python3"
  },
  "language_info": {
   "codemirror_mode": {
    "name": "ipython",
    "version": 3
   },
   "file_extension": ".py",
   "mimetype": "text/x-python",
   "name": "python",
   "nbconvert_exporter": "python",
   "pygments_lexer": "ipython3",
   "version": "3.10.14"
  }
 },
 "nbformat": 4,
 "nbformat_minor": 5
}
